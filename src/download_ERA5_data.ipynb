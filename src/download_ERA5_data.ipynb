{
 "cells": [
  {
   "cell_type": "code",
   "execution_count": 1,
   "metadata": {},
   "outputs": [],
   "source": [
    "import cdsapi\n",
    "import os"
   ]
  },
  {
   "cell_type": "code",
   "execution_count": 2,
   "metadata": {},
   "outputs": [],
   "source": [
    "c = cdsapi.Client()"
   ]
  },
  {
   "cell_type": "code",
   "execution_count": 3,
   "metadata": {},
   "outputs": [],
   "source": [
    "#variable = '100m_u_component_of_wind'\n",
    "#variable = '100m_v_component_of_wind'\n",
    "#variable = '10m_u_component_of_neutral_wind'\n",
    "# variable = '10m_u_component_of_wind'\n",
    "# variable = '10m_v_component_of_wind'\n",
    "# variable = '2m_dewpoint_temperature'\n",
    "# variable = '2m_temperature'\n",
    "# variable = 'total_cloud_cover'"
   ]
  },
  {
   "cell_type": "code",
   "execution_count": 4,
   "metadata": {},
   "outputs": [],
   "source": [
    "years = ['2019', '2020', '2021', '2022', '2023']\n",
    "# years = ['2014', '2015', '2016', '2017', '2018']\n",
    "# years = ['2009', '2010', '2011', '2012', '2013']\n",
    "# years = ['2004', '2005', '2006', '2007', '2008']\n",
    "# years = ['1999', '2000', '2001', '2002', '2003']\n",
    "\n",
    "variables = [\n",
    "    # '100m_u_component_of_wind',\n",
    "    # '100m_v_component_of_wind',\n",
    "    # '10m_u_component_of_neutral_wind',\n",
    "    # '10m_u_component_of_wind',\n",
    "    # '10m_v_component_of_wind',\n",
    "    # '2m_dewpoint_temperature',\n",
    "    # '2m_temperature',\n",
    "    # 'total_cloud_cover'\n",
    "    # 'top_net_thermal_radiation',\n",
    "    # 'mean_sea_level_pressure',\n",
    "    'total_precipitation',\n",
    "]\n",
    "\n",
    "all_years = [\n",
    "    ['1999', '2000', '2001', '2002', '2003'],\n",
    "    ['2004', '2005', '2006', '2007', '2008'],\n",
    "    ['2009', '2010', '2011', '2012', '2013'],\n",
    "    ['2014', '2015', '2016', '2017', '2018'],\n",
    "    ['2019', '2020', '2021', '2022', '2023']\n",
    "]"
   ]
  },
  {
   "cell_type": "code",
   "execution_count": 5,
   "metadata": {},
   "outputs": [
    {
     "name": "stderr",
     "output_type": "stream",
     "text": [
      "2024-04-21 23:00:41,674 INFO Welcome to the CDS\n",
      "2024-04-21 23:00:41,675 INFO Sending request to https://cds.climate.copernicus.eu/api/v2/resources/reanalysis-era5-single-levels\n",
      "2024-04-21 23:00:41,967 INFO Request is queued\n",
      "2024-04-21 23:00:43,280 INFO Request is running\n",
      "2024-04-21 23:51:31,843 INFO Request is completed\n",
      "2024-04-21 23:51:31,845 INFO Downloading https://download-0018.copernicus-climate.eu/cache-compute-0018/cache/data5/adaptor.mars.internal-1713753506.855632-9141-15-e038500b-2210-413a-a2a5-b671510cea65.nc to mean_sea_level_pressure_1999_2003.nc (343.5K)\n",
      "2024-04-21 23:51:35,539 INFO Download rate 93K/s   \n",
      "2024-04-21 23:51:36,146 INFO Welcome to the CDS\n",
      "2024-04-21 23:51:36,146 INFO Sending request to https://cds.climate.copernicus.eu/api/v2/resources/reanalysis-era5-single-levels\n",
      "2024-04-21 23:51:36,451 INFO Request is queued\n",
      "2024-04-21 23:51:37,782 INFO Request is running\n",
      "2024-04-22 00:42:26,478 INFO Request is completed\n",
      "2024-04-22 00:42:26,480 INFO Downloading https://download-0013-clone.copernicus-climate.eu/cache-compute-0013/cache/data8/adaptor.mars.internal-1713756585.8338435-17701-6-eabe3aaf-e1ee-4feb-acc3-abcdb06ad734.nc to mean_sea_level_pressure_2004_2008.nc (343.7K)\n",
      "2024-04-22 00:42:29,769 INFO Download rate 104.6K/s\n",
      "2024-04-22 00:42:30,370 INFO Welcome to the CDS\n",
      "2024-04-22 00:42:30,372 INFO Sending request to https://cds.climate.copernicus.eu/api/v2/resources/reanalysis-era5-single-levels\n",
      "2024-04-22 00:42:30,677 INFO Request is queued\n",
      "2024-04-22 00:42:32,009 INFO Request is running\n",
      "2024-04-22 01:39:23,885 INFO Request is completed\n",
      "2024-04-22 01:39:23,886 INFO Downloading https://download-0004-clone.copernicus-climate.eu/cache-compute-0004/cache/data9/adaptor.mars.internal-1713759763.8290942-30522-5-45cb3416-635d-4120-a106-d4c756213d5c.nc to mean_sea_level_pressure_2009_2013.nc (343.5K)\n",
      "2024-04-22 01:39:27,245 INFO Download rate 102.3K/s\n",
      "2024-04-22 01:39:27,854 INFO Welcome to the CDS\n",
      "2024-04-22 01:39:27,855 INFO Sending request to https://cds.climate.copernicus.eu/api/v2/resources/reanalysis-era5-single-levels\n",
      "2024-04-22 01:39:28,161 INFO Request is queued\n",
      "2024-04-22 01:39:29,492 INFO Request is running\n",
      "2024-04-22 02:30:19,451 INFO Request is completed\n",
      "2024-04-22 02:30:19,452 INFO Downloading https://download-0008-clone.copernicus-climate.eu/cache-compute-0008/cache/data6/adaptor.mars.internal-1713763026.3908014-21067-5-4dc13cde-8ea9-41e3-934c-0cf7c19c16a3.nc to mean_sea_level_pressure_2014_2018.nc (343.5K)\n",
      "2024-04-22 02:30:22,433 INFO Download rate 115.3K/s\n",
      "2024-04-22 02:30:23,035 INFO Welcome to the CDS\n",
      "2024-04-22 02:30:23,036 INFO Sending request to https://cds.climate.copernicus.eu/api/v2/resources/reanalysis-era5-single-levels\n",
      "2024-04-22 02:30:23,365 INFO Request is queued\n",
      "2024-04-22 02:30:24,672 INFO Request is running\n",
      "2024-04-22 03:27:16,512 INFO Request is completed\n",
      "2024-04-22 03:27:16,514 INFO Downloading https://download-0000-clone.copernicus-climate.eu/cache-compute-0000/cache/data4/adaptor.mars.internal-1713766359.709984-14847-2-3c8d3c02-3d6b-4d8a-9404-46085f74f5a7.nc to mean_sea_level_pressure_2019_2023.nc (343.5K)\n",
      "2024-04-22 03:27:19,635 INFO Download rate 110.2K/s\n"
     ]
    }
   ],
   "source": [
    "for variable in variables:\n",
    "    for years in all_years:\n",
    "        filename_out = f'{variable}_{years[0]}_{years[-1]}.nc'\n",
    "        if os.path.exists(filename_out):\n",
    "            print(f'{filename_out} already exists')\n",
    "            continue\n",
    "\n",
    "        c.retrieve(\n",
    "            'reanalysis-era5-single-levels',\n",
    "            {\n",
    "                'product_type': 'reanalysis',\n",
    "                'format': 'netcdf',\n",
    "                'variable': [\n",
    "                    variable\n",
    "\n",
    "                ],\n",
    "                'year': years,\n",
    "                'month': [\n",
    "                    '01', '02', '03',\n",
    "                    '04', '05', '06',\n",
    "                    '07', '08', '09',\n",
    "                    '10', '11', '12',\n",
    "                ],\n",
    "                'day': [\n",
    "                    '01', '02', '03',\n",
    "                    '04', '05', '06',\n",
    "                    '07', '08', '09',\n",
    "                    '10', '11', '12',\n",
    "                    '13', '14', '15',\n",
    "                    '16', '17', '18',\n",
    "                    '19', '20', '21',\n",
    "                    '22', '23', '24',\n",
    "                    '25', '26', '27',\n",
    "                    '28', '29', '30',\n",
    "                    '31',\n",
    "                ],\n",
    "                'time': [\n",
    "                    '00:00', '01:00', '02:00',\n",
    "                    '03:00', '04:00', '05:00',\n",
    "                    '06:00', '07:00', '08:00',\n",
    "                    '09:00', '10:00', '11:00',\n",
    "                    '12:00', '13:00', '14:00',\n",
    "                    '15:00', '16:00', '17:00',\n",
    "                    '18:00', '19:00', '20:00',\n",
    "                    '21:00', '22:00', '23:00',\n",
    "                ],\n",
    "                'area': [\n",
    "                    -22.33, -45.7, -22.65,\n",
    "                    -45.54,\n",
    "                ],\n",
    "            },\n",
    "            filename_out)"
   ]
  },
  {
   "cell_type": "code",
   "execution_count": null,
   "metadata": {},
   "outputs": [],
   "source": []
  }
 ],
 "metadata": {
  "kernelspec": {
   "display_name": "GSST",
   "language": "python",
   "name": "python3"
  },
  "language_info": {
   "codemirror_mode": {
    "name": "ipython",
    "version": 3
   },
   "file_extension": ".py",
   "mimetype": "text/x-python",
   "name": "python",
   "nbconvert_exporter": "python",
   "pygments_lexer": "ipython3",
   "version": "3.12.3"
  },
  "orig_nbformat": 4
 },
 "nbformat": 4,
 "nbformat_minor": 2
}
